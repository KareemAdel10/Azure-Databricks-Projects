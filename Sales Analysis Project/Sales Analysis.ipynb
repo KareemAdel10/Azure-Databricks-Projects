{
 "cells": [
  {
   "cell_type": "markdown",
   "metadata": {
    "application/vnd.databricks.v1+cell": {
     "cellMetadata": {
      "byteLimit": 2048000,
      "rowLimit": 10000
     },
     "inputWidgets": {},
     "nuid": "2713e980-5063-4f8f-92ff-41ec33422706",
     "showTitle": false,
     "title": ""
    }
   },
   "source": [
    "- /FileStore/tables/sales_csv.txt \n",
    "\n",
    "- /FileStore/tables/menu_csv.txt"
   ]
  },
  {
   "cell_type": "code",
   "execution_count": 0,
   "metadata": {
    "application/vnd.databricks.v1+cell": {
     "cellMetadata": {
      "byteLimit": 2048000,
      "rowLimit": 10000
     },
     "inputWidgets": {},
     "nuid": "3419946b-1ae8-4d5f-8444-77f96697457b",
     "showTitle": false,
     "title": ""
    }
   },
   "outputs": [],
   "source": [
    "from pyspark.sql import SparkSession\n",
    "from pyspark.sql.types import *\n",
    "from pyspark.sql.functions import *"
   ]
  },
  {
   "cell_type": "code",
   "execution_count": 0,
   "metadata": {
    "application/vnd.databricks.v1+cell": {
     "cellMetadata": {
      "byteLimit": 2048000,
      "rowLimit": 10000
     },
     "inputWidgets": {},
     "nuid": "4d71edf4-869e-408e-9c54-5bfd0771983c",
     "showTitle": false,
     "title": ""
    }
   },
   "outputs": [],
   "source": [
    "spark  = SparkSession.builder.getOrCreate()"
   ]
  },
  {
   "cell_type": "code",
   "execution_count": 0,
   "metadata": {
    "application/vnd.databricks.v1+cell": {
     "cellMetadata": {
      "byteLimit": 2048000,
      "rowLimit": 10000
     },
     "inputWidgets": {},
     "nuid": "da90e41d-66f2-47ac-8895-242a60adafc0",
     "showTitle": false,
     "title": ""
    }
   },
   "outputs": [
    {
     "output_type": "execute_result",
     "data": {
      "text/html": [
       "\n",
       "            <div>\n",
       "                <p><b>SparkSession - hive</b></p>\n",
       "                \n",
       "        <div>\n",
       "            <p><b>SparkContext</b></p>\n",
       "\n",
       "            <p><a href=\"/?o=829500151987324#setting/sparkui/0913-172742-hwth27pm/driver-1449438185795825116\">Spark UI</a></p>\n",
       "\n",
       "            <dl>\n",
       "              <dt>Version</dt>\n",
       "                <dd><code>v3.5.0</code></dd>\n",
       "              <dt>Master</dt>\n",
       "                <dd><code>local[*, 4]</code></dd>\n",
       "              <dt>AppName</dt>\n",
       "                <dd><code>Databricks Shell</code></dd>\n",
       "            </dl>\n",
       "        </div>\n",
       "        \n",
       "            </div>\n",
       "        "
      ],
      "text/plain": [
       "<pyspark.sql.session.SparkSession at 0x7f763d382950>"
      ]
     },
     "execution_count": 56,
     "metadata": {},
     "output_type": "execute_result"
    }
   ],
   "source": [
    "spark"
   ]
  },
  {
   "cell_type": "code",
   "execution_count": 0,
   "metadata": {
    "application/vnd.databricks.v1+cell": {
     "cellMetadata": {
      "byteLimit": 2048000,
      "rowLimit": 10000
     },
     "inputWidgets": {},
     "nuid": "4a679cd0-774b-4279-b3f9-f636e5755c1e",
     "showTitle": false,
     "title": ""
    }
   },
   "outputs": [
    {
     "output_type": "display_data",
     "data": {
      "text/html": [
       "<style>pre { white-space: pre !important; }</style>"
      ],
      "text/plain": [
       "<IPython.core.display.HTML object>"
      ]
     },
     "metadata": {},
     "output_type": "display_data"
    }
   ],
   "source": [
    "from IPython.display import display, HTML\n",
    "display(HTML(\"<style>pre { white-space: pre !important; }</style>\"))"
   ]
  },
  {
   "cell_type": "markdown",
   "metadata": {
    "application/vnd.databricks.v1+cell": {
     "cellMetadata": {
      "byteLimit": 2048000,
      "rowLimit": 10000
     },
     "inputWidgets": {},
     "nuid": "ad46d156-2825-42fa-b8d6-9500e8de19a7",
     "showTitle": false,
     "title": ""
    }
   },
   "source": [
    "# Data Frames Creation\n"
   ]
  },
  {
   "cell_type": "markdown",
   "metadata": {
    "application/vnd.databricks.v1+cell": {
     "cellMetadata": {
      "byteLimit": 2048000,
      "rowLimit": 10000
     },
     "inputWidgets": {},
     "nuid": "715c756d-34f6-4026-8e8c-8bff27dcb4eb",
     "showTitle": false,
     "title": ""
    }
   },
   "source": [
    "### DF1"
   ]
  },
  {
   "cell_type": "code",
   "execution_count": 0,
   "metadata": {
    "application/vnd.databricks.v1+cell": {
     "cellMetadata": {
      "byteLimit": 2048000,
      "rowLimit": 10000
     },
     "inputWidgets": {},
     "nuid": "f86ef812-0a2d-4a45-9ad4-b07c814753c0",
     "showTitle": false,
     "title": ""
    }
   },
   "outputs": [],
   "source": [
    "df1schema= StructType(\n",
    "                       [\n",
    "                        StructField(\"Product_id\", IntegerType(),False),\n",
    "                        StructField(\"Customer_id\", StringType(),False),\n",
    "                        StructField(\"Order_date\", DateType(),False),\n",
    "                        StructField(\"Location\", StringType(),False),   \n",
    "                        StructField(\"Source_Order\", StringType(),False)\n",
    "                       ]\n",
    "                    )\n"
   ]
  },
  {
   "cell_type": "code",
   "execution_count": 0,
   "metadata": {
    "application/vnd.databricks.v1+cell": {
     "cellMetadata": {
      "byteLimit": 2048000,
      "rowLimit": 10000
     },
     "inputWidgets": {},
     "nuid": "605205d2-0d5a-459e-a791-5c9b41b0b916",
     "showTitle": false,
     "title": ""
    }
   },
   "outputs": [
    {
     "output_type": "stream",
     "name": "stdout",
     "output_type": "stream",
     "text": [
      "+----------+-----------+----------+--------+------------+\n|Product_id|Customer_id|Order_date|Location|Source_Order|\n+----------+-----------+----------+--------+------------+\n|         2|          A|2022-01-01|   India|      Swiggy|\n|         2|          A|2023-01-07|   India|      Swiggy|\n|         3|          A|2023-01-10|   India|  Restaurant|\n|         3|          A|2022-01-11|   India|      Swiggy|\n|         3|          A|2023-01-11|   India|  Restaurant|\n|         2|          B|2022-02-01|   India|      Swiggy|\n|         2|          B|2023-01-02|   India|      Swiggy|\n|         1|          B|2023-01-04|   India|  Restaurant|\n|         1|          B|2023-02-11|   India|      Swiggy|\n|         3|          B|2023-01-16|   India|      zomato|\n|         3|          B|2022-02-01|   India|      zomato|\n|         3|          C|2023-01-01|   India|      zomato|\n|         1|          C|2023-01-01|      UK|      Swiggy|\n|         6|          C|2022-01-07|      UK|      zomato|\n|         3|          D|2023-02-16|      UK|  Restaurant|\n|         5|          D|2022-02-01|      UK|      zomato|\n|         3|          E|2023-02-01|      UK|  Restaurant|\n|         4|          E|2023-02-01|      UK|      Swiggy|\n|         4|          E|2023-02-07|      UK|  Restaurant|\n|         2|          A|2022-01-01|      UK|      Swiggy|\n+----------+-----------+----------+--------+------------+\nonly showing top 20 rows\n\n"
     ]
    }
   ],
   "source": [
    "df1 = spark.read.csv(\"/FileStore/tables/sales_csv.txt\", schema=df1schema, header=True)\n",
    "df1.show()"
   ]
  },
  {
   "cell_type": "code",
   "execution_count": 0,
   "metadata": {
    "application/vnd.databricks.v1+cell": {
     "cellMetadata": {
      "byteLimit": 2048000,
      "rowLimit": 10000
     },
     "inputWidgets": {},
     "nuid": "cc76c65a-8c8d-4f06-9760-a7396c4db39d",
     "showTitle": false,
     "title": ""
    }
   },
   "outputs": [
    {
     "output_type": "stream",
     "name": "stdout",
     "output_type": "stream",
     "text": [
      "root\n |-- Product_id: integer (nullable = true)\n |-- Customer_id: string (nullable = true)\n |-- Order_date: date (nullable = true)\n |-- Location: string (nullable = true)\n |-- Source_Order: string (nullable = true)\n\n"
     ]
    }
   ],
   "source": [
    "df1.printSchema()"
   ]
  },
  {
   "cell_type": "code",
   "execution_count": 0,
   "metadata": {
    "application/vnd.databricks.v1+cell": {
     "cellMetadata": {
      "byteLimit": 2048000,
      "rowLimit": 10000
     },
     "inputWidgets": {},
     "nuid": "7e54e639-902b-4dbb-baf2-57ef3a0a8503",
     "showTitle": false,
     "title": ""
    }
   },
   "outputs": [],
   "source": [
    "df1 = df1.withColumn(\"order_year\", year(df1[\"Order_date\"]))\n",
    "df1 = df1.withColumn(\"order_month\", month(df1[\"Order_date\"]))\n",
    "df1 = df1.withColumn(\"order_quarter\", quarter(df1[\"Order_date\"]))"
   ]
  },
  {
   "cell_type": "code",
   "execution_count": 0,
   "metadata": {
    "application/vnd.databricks.v1+cell": {
     "cellMetadata": {
      "byteLimit": 2048000,
      "rowLimit": 10000
     },
     "inputWidgets": {},
     "nuid": "d767a656-58f0-4f4d-84d3-60e190ea33aa",
     "showTitle": false,
     "title": ""
    }
   },
   "outputs": [
    {
     "output_type": "stream",
     "name": "stdout",
     "output_type": "stream",
     "text": [
      "+----------+-----------+----------+--------+------------+----------+-----------+-------------+\n|Product_id|Customer_id|Order_date|Location|Source_Order|order_year|order_month|order_quarter|\n+----------+-----------+----------+--------+------------+----------+-----------+-------------+\n|         2|          A|2022-01-01|   India|      Swiggy|      2022|          1|            1|\n|         2|          A|2023-01-07|   India|      Swiggy|      2023|          1|            1|\n|         3|          A|2023-01-10|   India|  Restaurant|      2023|          1|            1|\n|         3|          A|2022-01-11|   India|      Swiggy|      2022|          1|            1|\n|         3|          A|2023-01-11|   India|  Restaurant|      2023|          1|            1|\n|         2|          B|2022-02-01|   India|      Swiggy|      2022|          2|            1|\n|         2|          B|2023-01-02|   India|      Swiggy|      2023|          1|            1|\n|         1|          B|2023-01-04|   India|  Restaurant|      2023|          1|            1|\n|         1|          B|2023-02-11|   India|      Swiggy|      2023|          2|            1|\n|         3|          B|2023-01-16|   India|      zomato|      2023|          1|            1|\n|         3|          B|2022-02-01|   India|      zomato|      2022|          2|            1|\n|         3|          C|2023-01-01|   India|      zomato|      2023|          1|            1|\n|         1|          C|2023-01-01|      UK|      Swiggy|      2023|          1|            1|\n|         6|          C|2022-01-07|      UK|      zomato|      2022|          1|            1|\n|         3|          D|2023-02-16|      UK|  Restaurant|      2023|          2|            1|\n|         5|          D|2022-02-01|      UK|      zomato|      2022|          2|            1|\n|         3|          E|2023-02-01|      UK|  Restaurant|      2023|          2|            1|\n|         4|          E|2023-02-01|      UK|      Swiggy|      2023|          2|            1|\n|         4|          E|2023-02-07|      UK|  Restaurant|      2023|          2|            1|\n|         2|          A|2022-01-01|      UK|      Swiggy|      2022|          1|            1|\n+----------+-----------+----------+--------+------------+----------+-----------+-------------+\nonly showing top 20 rows\n\n"
     ]
    }
   ],
   "source": [
    "df1.show()"
   ]
  },
  {
   "cell_type": "markdown",
   "metadata": {
    "application/vnd.databricks.v1+cell": {
     "cellMetadata": {
      "byteLimit": 2048000,
      "rowLimit": 10000
     },
     "inputWidgets": {},
     "nuid": "31dea1b0-accc-4052-a5ed-e8451969ca2e",
     "showTitle": false,
     "title": ""
    }
   },
   "source": [
    "### DF2"
   ]
  },
  {
   "cell_type": "code",
   "execution_count": 0,
   "metadata": {
    "application/vnd.databricks.v1+cell": {
     "cellMetadata": {
      "byteLimit": 2048000,
      "rowLimit": 10000
     },
     "inputWidgets": {},
     "nuid": "09fa6686-5df8-4ce9-b10d-b52a5bd5d1f8",
     "showTitle": false,
     "title": ""
    }
   },
   "outputs": [],
   "source": [
    "myschema = StructType(\n",
    "                [\n",
    "                    StructField(\"Product_id\",IntegerType(), False),\n",
    "                    StructField(\"Product_name\",StringType(), False),\n",
    "                    StructField(\"Price\",StringType(), False)\n",
    "                ]\n",
    "    )"
   ]
  },
  {
   "cell_type": "code",
   "execution_count": 0,
   "metadata": {
    "application/vnd.databricks.v1+cell": {
     "cellMetadata": {
      "byteLimit": 2048000,
      "rowLimit": 10000
     },
     "inputWidgets": {},
     "nuid": "b01e73de-f14b-4b40-acbf-9cf2b6e90be9",
     "showTitle": false,
     "title": ""
    }
   },
   "outputs": [],
   "source": [
    "df2 = spark.read.csv(f\"/FileStore/tables/menu_csv.txt\", schema=myschema)"
   ]
  },
  {
   "cell_type": "code",
   "execution_count": 0,
   "metadata": {
    "application/vnd.databricks.v1+cell": {
     "cellMetadata": {
      "byteLimit": 2048000,
      "rowLimit": 10000
     },
     "inputWidgets": {},
     "nuid": "87ddca64-e627-4672-ad51-bd5ce615b77f",
     "showTitle": false,
     "title": ""
    }
   },
   "outputs": [
    {
     "output_type": "stream",
     "name": "stdout",
     "output_type": "stream",
     "text": [
      "+----------+------------+-----+\n|Product_id|Product_name|Price|\n+----------+------------+-----+\n|         1|       PIZZA|  100|\n|         2|     Chowmin|  150|\n|         3|    sandwich|  120|\n|         4|        Dosa|  110|\n|         5|     Biryani|   80|\n|         6|       Pasta|  180|\n+----------+------------+-----+\n\n"
     ]
    }
   ],
   "source": [
    "df2.show()"
   ]
  },
  {
   "cell_type": "markdown",
   "metadata": {
    "application/vnd.databricks.v1+cell": {
     "cellMetadata": {
      "byteLimit": 2048000,
      "rowLimit": 10000
     },
     "inputWidgets": {},
     "nuid": "2f5b764b-922e-40fb-9fa8-b4efbf993a30",
     "showTitle": false,
     "title": ""
    }
   },
   "source": [
    "# KPIs Extraction"
   ]
  },
  {
   "cell_type": "markdown",
   "metadata": {
    "application/vnd.databricks.v1+cell": {
     "cellMetadata": {
      "byteLimit": 2048000,
      "rowLimit": 10000
     },
     "inputWidgets": {},
     "nuid": "76552cd1-39a0-4d2e-a228-9949f149e3e0",
     "showTitle": false,
     "title": ""
    }
   },
   "source": [
    "### 1- Total Amount Spent by Each Customer"
   ]
  },
  {
   "cell_type": "code",
   "execution_count": 0,
   "metadata": {
    "application/vnd.databricks.v1+cell": {
     "cellMetadata": {
      "byteLimit": 2048000,
      "rowLimit": 10000
     },
     "inputWidgets": {},
     "nuid": "5ad6a3f9-0d12-4af1-b57c-6b7001b911fa",
     "showTitle": false,
     "title": ""
    }
   },
   "outputs": [
    {
     "output_type": "stream",
     "name": "stdout",
     "output_type": "stream",
     "text": [
      "+----------+-----------+----------+--------+------------+----------+-----------+-------------+------------+-----+\n|Product_id|Customer_id|Order_date|Location|Source_Order|order_year|order_month|order_quarter|Product_name|Price|\n+----------+-----------+----------+--------+------------+----------+-----------+-------------+------------+-----+\n|         2|          A|2022-01-01|   India|      Swiggy|      2022|          1|            1|     Chowmin|  150|\n|         2|          A|2023-01-07|   India|      Swiggy|      2023|          1|            1|     Chowmin|  150|\n|         3|          A|2023-01-10|   India|  Restaurant|      2023|          1|            1|    sandwich|  120|\n|         3|          A|2022-01-11|   India|      Swiggy|      2022|          1|            1|    sandwich|  120|\n|         3|          A|2023-01-11|   India|  Restaurant|      2023|          1|            1|    sandwich|  120|\n|         2|          B|2022-02-01|   India|      Swiggy|      2022|          2|            1|     Chowmin|  150|\n|         2|          B|2023-01-02|   India|      Swiggy|      2023|          1|            1|     Chowmin|  150|\n|         1|          B|2023-01-04|   India|  Restaurant|      2023|          1|            1|       PIZZA|  100|\n|         1|          B|2023-02-11|   India|      Swiggy|      2023|          2|            1|       PIZZA|  100|\n|         3|          B|2023-01-16|   India|      zomato|      2023|          1|            1|    sandwich|  120|\n|         3|          B|2022-02-01|   India|      zomato|      2022|          2|            1|    sandwich|  120|\n|         3|          C|2023-01-01|   India|      zomato|      2023|          1|            1|    sandwich|  120|\n|         1|          C|2023-01-01|      UK|      Swiggy|      2023|          1|            1|       PIZZA|  100|\n|         6|          C|2022-01-07|      UK|      zomato|      2022|          1|            1|       Pasta|  180|\n|         3|          D|2023-02-16|      UK|  Restaurant|      2023|          2|            1|    sandwich|  120|\n|         5|          D|2022-02-01|      UK|      zomato|      2022|          2|            1|     Biryani|   80|\n|         3|          E|2023-02-01|      UK|  Restaurant|      2023|          2|            1|    sandwich|  120|\n|         4|          E|2023-02-01|      UK|      Swiggy|      2023|          2|            1|        Dosa|  110|\n|         4|          E|2023-02-07|      UK|  Restaurant|      2023|          2|            1|        Dosa|  110|\n|         2|          A|2022-01-01|      UK|      Swiggy|      2022|          1|            1|     Chowmin|  150|\n+----------+-----------+----------+--------+------------+----------+-----------+-------------+------------+-----+\nonly showing top 20 rows\n\n"
     ]
    }
   ],
   "source": [
    "joined_df = df1.join(df2, on=\"Product_id\")\n",
    "joined_df.show()"
   ]
  },
  {
   "cell_type": "code",
   "execution_count": 0,
   "metadata": {
    "application/vnd.databricks.v1+cell": {
     "cellMetadata": {
      "byteLimit": 2048000,
      "rowLimit": 10000
     },
     "inputWidgets": {},
     "nuid": "31704434-79fa-4675-b165-3b8354c5374a",
     "showTitle": false,
     "title": ""
    }
   },
   "outputs": [
    {
     "output_type": "display_data",
     "data": {
      "text/plain": [
       "DataFrame[Customer_id: string, sum(Price): double]"
      ]
     },
     "metadata": {},
     "output_type": "display_data"
    }
   ],
   "source": [
    "TotalByCustomer = joined_df.groupBy(joined_df.Customer_id).agg(sum(joined_df.Price))\n",
    "display(TotalByCustomer)"
   ]
  },
  {
   "cell_type": "markdown",
   "metadata": {
    "application/vnd.databricks.v1+cell": {
     "cellMetadata": {
      "byteLimit": 2048000,
      "rowLimit": 10000
     },
     "inputWidgets": {},
     "nuid": "0f05ddcf-b571-4ecb-81f9-c8ada6e64a6c",
     "showTitle": false,
     "title": ""
    }
   },
   "source": [
    "### 2- Total Amount Spent by Each Customer on Each Food Category"
   ]
  },
  {
   "cell_type": "code",
   "execution_count": 0,
   "metadata": {
    "application/vnd.databricks.v1+cell": {
     "cellMetadata": {
      "byteLimit": 2048000,
      "rowLimit": 10000
     },
     "inputWidgets": {},
     "nuid": "e2406fd1-d399-48aa-821f-7df554d6d7f5",
     "showTitle": false,
     "title": ""
    },
    "scrolled": true
   },
   "outputs": [
    {
     "output_type": "stream",
     "name": "stdout",
     "output_type": "stream",
     "text": [
      "+-----------+------------+------+\n|Customer_id|Product_name| Total|\n+-----------+------------+------+\n|          A|     Chowmin|1800.0|\n|          A|       PIZZA| 200.0|\n|          A|    sandwich|2160.0|\n|          B|     Chowmin|1800.0|\n|          B|       PIZZA|1200.0|\n|          B|    sandwich|1440.0|\n|          C|       PIZZA| 600.0|\n|          C|       Pasta|1080.0|\n|          C|    sandwich| 720.0|\n|          D|     Biryani| 480.0|\n|          D|    sandwich| 720.0|\n|          E|        Dosa|1320.0|\n|          E|    sandwich| 720.0|\n+-----------+------------+------+\n\n"
     ]
    }
   ],
   "source": [
    "TotalByCustomerPerProduct = joined_df.groupBy([joined_df.Customer_id, joined_df.Product_name]).agg(sum(joined_df.Price).alias(\"Total\"))\n",
    "TotalByCustomerPerProduct = TotalByCustomerPerProduct.sort([TotalByCustomerPerProduct.Customer_id,TotalByCustomerPerProduct.Product_name])\n",
    "TotalByCustomerPerProduct.show()"
   ]
  },
  {
   "cell_type": "markdown",
   "metadata": {
    "application/vnd.databricks.v1+cell": {
     "cellMetadata": {
      "byteLimit": 2048000,
      "rowLimit": 10000
     },
     "inputWidgets": {},
     "nuid": "8f12b14f-1d9c-4b5e-8203-7978e92aa8a6",
     "showTitle": false,
     "title": ""
    }
   },
   "source": [
    "### 3- Total Amount of Sales Per Month"
   ]
  },
  {
   "cell_type": "code",
   "execution_count": 0,
   "metadata": {
    "application/vnd.databricks.v1+cell": {
     "cellMetadata": {
      "byteLimit": 2048000,
      "rowLimit": 10000
     },
     "inputWidgets": {},
     "nuid": "a0869b2d-2f04-490d-b411-902ac0a09556",
     "showTitle": false,
     "title": ""
    },
    "scrolled": true
   },
   "outputs": [
    {
     "output_type": "stream",
     "name": "stdout",
     "output_type": "stream",
     "text": [
      "+-----+------+\n|Month| Total|\n+-----+------+\n|    1|2860.0|\n|    2|2730.0|\n|    3| 910.0|\n|    5|2960.0|\n|    6|2960.0|\n|    7| 910.0|\n|   11| 910.0|\n+-----+------+\n\n"
     ]
    }
   ],
   "source": [
    "Sales_per_month=joined_df.groupBy((joined_df.order_month).alias(\"Month\")).agg(sum(joined_df.Price).alias(\"Total\")).sort(joined_df.order_month)\n",
    "Sales_per_month.show()"
   ]
  },
  {
   "cell_type": "markdown",
   "metadata": {
    "application/vnd.databricks.v1+cell": {
     "cellMetadata": {
      "byteLimit": 2048000,
      "rowLimit": 10000
     },
     "inputWidgets": {},
     "nuid": "32e6ddfa-b5d3-41de-a47a-56483719d114",
     "showTitle": false,
     "title": ""
    }
   },
   "source": [
    "### 4-Yearly Sales"
   ]
  },
  {
   "cell_type": "code",
   "execution_count": 0,
   "metadata": {
    "application/vnd.databricks.v1+cell": {
     "cellMetadata": {
      "byteLimit": 2048000,
      "rowLimit": 10000
     },
     "inputWidgets": {},
     "nuid": "b312c3ad-11ec-4fc4-a35c-7398c8b0bfd7",
     "showTitle": false,
     "title": ""
    },
    "scrolled": false
   },
   "outputs": [
    {
     "output_type": "stream",
     "name": "stdout",
     "output_type": "stream",
     "text": [
      "+----+------+\n|Year| Total|\n+----+------+\n|2022|4350.0|\n|2023|9890.0|\n+----+------+\n\n"
     ]
    }
   ],
   "source": [
    "Sales_per_year=joined_df.groupBy((joined_df.order_year).alias(\"Year\")).agg(sum(joined_df.Price).alias(\"Total\")).sort(joined_df.order_year)\n",
    "Sales_per_year.show()"
   ]
  },
  {
   "cell_type": "markdown",
   "metadata": {
    "application/vnd.databricks.v1+cell": {
     "cellMetadata": {
      "byteLimit": 2048000,
      "rowLimit": 10000
     },
     "inputWidgets": {},
     "nuid": "0bc67dca-dc76-4154-9410-258ca6379a7d",
     "showTitle": false,
     "title": ""
    }
   },
   "source": [
    "### 5-Quarterly Sales"
   ]
  },
  {
   "cell_type": "code",
   "execution_count": 0,
   "metadata": {
    "application/vnd.databricks.v1+cell": {
     "cellMetadata": {
      "byteLimit": 2048000,
      "rowLimit": 10000
     },
     "inputWidgets": {},
     "nuid": "b22de8d6-a0d1-4362-ba68-8fda42f28d56",
     "showTitle": false,
     "title": ""
    },
    "scrolled": false
   },
   "outputs": [
    {
     "output_type": "stream",
     "name": "stdout",
     "output_type": "stream",
     "text": [
      "+-------+------+\n|Quarter| Total|\n+-------+------+\n|      1|6500.0|\n|      2|5920.0|\n|      3| 910.0|\n|      4| 910.0|\n+-------+------+\n\n"
     ]
    }
   ],
   "source": [
    "Sales_per_quarter=joined_df.groupBy((joined_df.order_quarter).alias(\"Quarter\")).agg(sum(joined_df.Price).alias(\"Total\")).sort(joined_df.order_quarter)\n",
    "Sales_per_quarter.show()"
   ]
  },
  {
   "cell_type": "markdown",
   "metadata": {
    "application/vnd.databricks.v1+cell": {
     "cellMetadata": {
      "byteLimit": 2048000,
      "rowLimit": 10000
     },
     "inputWidgets": {},
     "nuid": "5f09c4b1-9b8b-4087-a930-25b8a74dd6e5",
     "showTitle": false,
     "title": ""
    }
   },
   "source": [
    "### 6- Total Number Of Orders by Each Category"
   ]
  },
  {
   "cell_type": "code",
   "execution_count": 0,
   "metadata": {
    "application/vnd.databricks.v1+cell": {
     "cellMetadata": {
      "byteLimit": 2048000,
      "rowLimit": 10000
     },
     "inputWidgets": {},
     "nuid": "97f95cf1-5213-4a03-a72e-f7581f7f0b56",
     "showTitle": false,
     "title": ""
    },
    "scrolled": true
   },
   "outputs": [
    {
     "output_type": "stream",
     "name": "stdout",
     "output_type": "stream",
     "text": [
      "+------------+----------------+\n|Product_name|Number Of Orders|\n+------------+----------------+\n|    sandwich|              48|\n|     Chowmin|              24|\n|       PIZZA|              20|\n|        Dosa|              12|\n|       Pasta|               6|\n|     Biryani|               6|\n+------------+----------------+\n\n"
     ]
    }
   ],
   "source": [
    "noOrdersPerProduct = joined_df.groupBy(joined_df.Product_name).agg(count(joined_df.Price).alias(\"Number Of Orders\"))\n",
    "noOrdersPerProduct = noOrdersPerProduct.sort(noOrdersPerProduct[\"Number Of Orders\"].desc())\n",
    "noOrdersPerProduct.show()"
   ]
  },
  {
   "cell_type": "markdown",
   "metadata": {
    "application/vnd.databricks.v1+cell": {
     "cellMetadata": {
      "byteLimit": 2048000,
      "rowLimit": 10000
     },
     "inputWidgets": {},
     "nuid": "0346240b-27a0-415d-b258-b7876bb2b496",
     "showTitle": false,
     "title": ""
    }
   },
   "source": [
    "### 7- TOP 5 Ordered Items"
   ]
  },
  {
   "cell_type": "code",
   "execution_count": 0,
   "metadata": {
    "application/vnd.databricks.v1+cell": {
     "cellMetadata": {
      "byteLimit": 2048000,
      "rowLimit": 10000
     },
     "inputWidgets": {},
     "nuid": "77b32552-eded-4e08-81e7-a492d4cd1f6b",
     "showTitle": false,
     "title": ""
    },
    "scrolled": true
   },
   "outputs": [
    {
     "output_type": "stream",
     "name": "stdout",
     "output_type": "stream",
     "text": [
      "+------------+----------------+\n|Product_name|Number Of Orders|\n+------------+----------------+\n|    sandwich|              48|\n|     Chowmin|              24|\n|       PIZZA|              20|\n|        Dosa|              12|\n|       Pasta|               6|\n|     Biryani|               6|\n+------------+----------------+\n\n"
     ]
    }
   ],
   "source": [
    "noOrdersPerProduct_top5 = joined_df.groupBy(joined_df.Product_name).agg(count(joined_df.Price).alias(\"Number Of Orders\"))\n",
    "noOrdersPerProduct_top5 = noOrdersPerProduct_top5.sort(noOrdersPerProduct_top5[\"Number Of Orders\"].desc())\n",
    "noOrdersPerProduct_top5 = noOrdersPerProduct_top5.limit(5)\n",
    "noOrdersPerProduct.show()"
   ]
  },
  {
   "cell_type": "markdown",
   "metadata": {
    "application/vnd.databricks.v1+cell": {
     "cellMetadata": {
      "byteLimit": 2048000,
      "rowLimit": 10000
     },
     "inputWidgets": {},
     "nuid": "4b222bbe-c3d5-490f-b794-05c84204f8a2",
     "showTitle": false,
     "title": ""
    }
   },
   "source": [
    "### 8- Customer Visit Frequency"
   ]
  },
  {
   "cell_type": "code",
   "execution_count": 0,
   "metadata": {
    "application/vnd.databricks.v1+cell": {
     "cellMetadata": {
      "byteLimit": 2048000,
      "rowLimit": 10000
     },
     "inputWidgets": {},
     "nuid": "94aea442-6c3a-49a4-81bb-ce5fec3993a7",
     "showTitle": false,
     "title": ""
    },
    "scrolled": true
   },
   "outputs": [
    {
     "output_type": "stream",
     "name": "stdout",
     "output_type": "stream",
     "text": [
      "+-----------+----------------+\n|Customer_id|Number Of Visits|\n+-----------+----------------+\n|          B|              22|\n|          A|              16|\n|          E|              14|\n|          D|              10|\n|          C|               9|\n+-----------+----------------+\n\n"
     ]
    }
   ],
   "source": [
    "customer_freq = joined_df.groupBy(joined_df.Customer_id).agg(countDistinct(joined_df.Order_date).alias(\"Number Of Visits\"))\n",
    "customer_freq = customer_freq.sort(customer_freq[\"Number Of Visits\"].desc())\n",
    "customer_freq.show()"
   ]
  },
  {
   "cell_type": "markdown",
   "metadata": {
    "application/vnd.databricks.v1+cell": {
     "cellMetadata": {
      "byteLimit": 2048000,
      "rowLimit": 10000
     },
     "inputWidgets": {},
     "nuid": "0cb77ed0-f31d-44a9-bf51-625393bb4e24",
     "showTitle": false,
     "title": ""
    }
   },
   "source": [
    "### 9- Total Sales Per Country"
   ]
  },
  {
   "cell_type": "code",
   "execution_count": 0,
   "metadata": {
    "application/vnd.databricks.v1+cell": {
     "cellMetadata": {
      "byteLimit": 2048000,
      "rowLimit": 10000
     },
     "inputWidgets": {},
     "nuid": "0ed1f516-ee6c-46b8-8f7c-d1c7c0cc078e",
     "showTitle": false,
     "title": ""
    },
    "scrolled": true
   },
   "outputs": [
    {
     "output_type": "stream",
     "name": "stdout",
     "output_type": "stream",
     "text": [
      "+-------+------+\n|Country| Total|\n+-------+------+\n|  India|4760.0|\n|     UK|7020.0|\n|    USA|2460.0|\n+-------+------+\n\n"
     ]
    }
   ],
   "source": [
    "Sales_per_month=joined_df.groupBy((joined_df.Location).alias(\"Country\")).agg(sum(joined_df.Price).alias(\"Total\")).sort(joined_df.Location)\n",
    "Sales_per_month.show()"
   ]
  },
  {
   "cell_type": "markdown",
   "metadata": {
    "application/vnd.databricks.v1+cell": {
     "cellMetadata": {
      "byteLimit": 2048000,
      "rowLimit": 10000
     },
     "inputWidgets": {},
     "nuid": "f353a206-0dc5-4947-bf88-013864bf6ab2",
     "showTitle": false,
     "title": ""
    }
   },
   "source": [
    "### 10- Total Sales Per Order_Source"
   ]
  },
  {
   "cell_type": "code",
   "execution_count": 0,
   "metadata": {
    "application/vnd.databricks.v1+cell": {
     "cellMetadata": {
      "byteLimit": 2048000,
      "rowLimit": 10000
     },
     "inputWidgets": {},
     "nuid": "cfda6d77-4635-46d0-b0b9-47ee7f355730",
     "showTitle": false,
     "title": ""
    },
    "scrolled": false
   },
   "outputs": [
    {
     "output_type": "stream",
     "name": "stdout",
     "output_type": "stream",
     "text": [
      "+------------+------+\n|Order Source| Total|\n+------------+------+\n|  Restaurant|3090.0|\n|      Swiggy|6230.0|\n|      zomato|4920.0|\n+------------+------+\n\n"
     ]
    }
   ],
   "source": [
    "Sales_per_month=joined_df.groupBy((joined_df.Source_Order).alias(\"Order Source\")).agg(sum(joined_df.Price).alias(\"Total\")).sort(joined_df.Source_Order)\n",
    "Sales_per_month.show()"
   ]
  },
  {
   "cell_type": "code",
   "execution_count": 0,
   "metadata": {
    "application/vnd.databricks.v1+cell": {
     "cellMetadata": {
      "byteLimit": 2048000,
      "rowLimit": 10000
     },
     "inputWidgets": {},
     "nuid": "17537744-0b35-48db-866e-8511b566d431",
     "showTitle": false,
     "title": ""
    }
   },
   "outputs": [],
   "source": []
  }
 ],
 "metadata": {
  "application/vnd.databricks.v1+notebook": {
   "dashboards": [],
   "environmentMetadata": null,
   "language": "python",
   "notebookMetadata": {
    "mostRecentlyExecutedCommandWithImplicitDF": {
     "commandId": 3938279180578024,
     "dataframes": [
      "_sqldf"
     ]
    },
    "pythonIndentUnit": 4
   },
   "notebookName": "PySpark Project - Sales Analysisdb",
   "widgets": {}
  },
  "kernelspec": {
   "display_name": "Python 3 (ipykernel)",
   "language": "python",
   "name": "python3"
  },
  "language_info": {
   "codemirror_mode": {
    "name": "ipython",
    "version": 3
   },
   "file_extension": ".py",
   "mimetype": "text/x-python",
   "name": "python",
   "nbconvert_exporter": "python",
   "pygments_lexer": "ipython3",
   "version": "3.10.9"
  }
 },
 "nbformat": 4,
 "nbformat_minor": 0
}
